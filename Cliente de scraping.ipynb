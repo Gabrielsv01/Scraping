{
 "cells": [
  {
   "cell_type": "code",
   "execution_count": null,
   "metadata": {},
   "outputs": [],
   "source": [
    "from socket import *"
   ]
  },
  {
   "cell_type": "code",
   "execution_count": null,
   "metadata": {},
   "outputs": [],
   "source": [
    "# tipo de conexão, local\n",
    "serverHost = 'localhost'\n",
    "# porta para comunicação com o servidor (a mesma do servidor)\n",
    "serverPort = 5007"
   ]
  },
  {
   "cell_type": "code",
   "execution_count": null,
   "metadata": {},
   "outputs": [],
   "source": [
    "# Tipo de protocolo usado\n",
    "# AF_INET  = IP\n",
    "# SOCK_STREAM = TCP\n",
    "sock_client_obj = socket(AF_INET,SOCK_STREAM)"
   ]
  },
  {
   "cell_type": "code",
   "execution_count": null,
   "metadata": {},
   "outputs": [],
   "source": [
    "# criando a conexão\n",
    "sock_client_obj.connect((serverHost,serverPort))"
   ]
  },
  {
   "cell_type": "code",
   "execution_count": null,
   "metadata": {},
   "outputs": [],
   "source": [
    "#entrada da mensagem\n",
    "print(\"Programa desenvolvido para coletar dados do site Portal da Transparência da cidade de Limoeiro de Anadia.\",'\\n')\n",
    "print(\"indice de Abreciações:\")\n",
    "print('NE = Nº do Empenho',' DE = Data do Empenho (ANO-MÊS-DIA)',' VE = Valor do Empenho',' CC = Codigo do Credor',' NC = Nome do Credor',' H = Historico',\"\\n\")\n",
    "print(\"Digite a abreviação e o dado para consulta separado por virgulas:\")\n",
    "print(\"Exemplo: DE,2018-12-28\")\n",
    "entrada = input(\"Digite a tabela e a consulta:\")\n",
    "mensagem = [str.encode(entrada)]"
   ]
  },
  {
   "cell_type": "code",
   "execution_count": null,
   "metadata": {},
   "outputs": [],
   "source": [
    "for linha in mensagem:\n",
    "    sock_client_obj.send(linha)\n",
    "    \n",
    "    #espera o servidor responder\n",
    "    data = sock_client_obj.recv(10024)\n",
    "    resposta = data.decode().split(\"+\")\n",
    "    print('NE = Nº do Empenho',' DE = Data do Empenho (ANO-MÊS-DIA)',' VE = Valor do Empenho',' CC = Codigo do Credor',' NC = Nome do Credor',' H = Historico',\"\\n\")\n",
    "    for valores in resposta:\n",
    "        print(valores)\n",
    "sock_client_obj.close"
   ]
  }
 ],
 "metadata": {
  "kernelspec": {
   "display_name": "Python 3",
   "language": "python",
   "name": "python3"
  },
  "language_info": {
   "codemirror_mode": {
    "name": "ipython",
    "version": 3
   },
   "file_extension": ".py",
   "mimetype": "text/x-python",
   "name": "python",
   "nbconvert_exporter": "python",
   "pygments_lexer": "ipython3",
   "version": "3.5.4"
  }
 },
 "nbformat": 4,
 "nbformat_minor": 2
}
