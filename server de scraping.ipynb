{
 "cells": [
  {
   "cell_type": "code",
   "execution_count": 2,
   "metadata": {},
   "outputs": [],
   "source": [
    "import requests\n",
    "import bs4\n",
    "from socket import *"
   ]
  },
  {
   "cell_type": "code",
   "execution_count": 3,
   "metadata": {},
   "outputs": [],
   "source": [
    "# pegando informações do site \n",
    "def scrapin(site):\n",
    "    res = requests.get('{}'.format(site))\n",
    "    soup = bs4.BeautifulSoup(res.text,'lxml')\n",
    "    return soup"
   ]
  },
  {
   "cell_type": "code",
   "execution_count": 4,
   "metadata": {},
   "outputs": [],
   "source": [
    "# conectando ao site\n",
    "site = 'http://portaldasprefeituras-al.com.br/limoeirodeanadia/prefeitura/'\n",
    "# jogando na funcao para fascilitar a manipulacao\n",
    "dados = scrapin(site)"
   ]
  },
  {
   "cell_type": "code",
   "execution_count": 5,
   "metadata": {},
   "outputs": [],
   "source": [
    "# selecionando somente os dados da tabela\n",
    "tratamento_aux = []\n",
    "for d in dados.find_all('tr'):\n",
    "        tratamento_aux.append(d.get_text())"
   ]
  },
  {
   "cell_type": "code",
   "execution_count": 6,
   "metadata": {},
   "outputs": [],
   "source": [
    "dados_tratados = []\n",
    "# retirando quebra de linha e dadso nao uteis\n",
    "for e in tratamento_aux:\n",
    "    aux = e.split('\\n')\n",
    "    while True:\n",
    "        try:\n",
    "            #removendo dados nao uteis\n",
    "            aux.remove('')\n",
    "        except:\n",
    "            try:\n",
    "                #removendo dados nao uteis\n",
    "                aux.remove(' Visualizar com detalhes')\n",
    "                aux.remove(' Exportar em CSV')\n",
    "            except:\n",
    "                break\n",
    "                \n",
    "    dados_tratados.append(aux)\n",
    "############################\n",
    "\n",
    "#remoção dos primeiros dados \n",
    "dados_tratados.pop(0)\n",
    "dados_tratados.pop(0)\n",
    "\n",
    "# criando dicionario\n",
    "lista_Empenhos = {'Nº do Empenho':[''],'Data do Empenho (A-M-D)':[''],'Valor do Empenho':[''],'Codigo do Credor':[''],'Nome do Credor':[''],'Historico':['']}\n",
    "\n",
    "# armazenando valores em listas para adcionar no dicionario\n",
    "numero = []\n",
    "data = []\n",
    "valor = []\n",
    "codigo = []\n",
    "nome = []\n",
    "historico = []\n",
    "\n",
    "# armazenando nas listas\n",
    "for fa in dados_tratados:\n",
    "    numero.append(fa[0])\n",
    "    data.append(fa[1])\n",
    "    valor.append(fa[2])\n",
    "    codigo.append(fa[3])\n",
    "    nome.append(fa[4])\n",
    "    historico.append(fa[5])\n",
    "\n",
    "# armazenando no dicionario\n",
    "lista_Empenhos['Nº do Empenho'] = numero\n",
    "lista_Empenhos['Data do Empenho (A-M-D)'] = data\n",
    "lista_Empenhos['Valor do Empenho'] = valor\n",
    "lista_Empenhos['Codigo do Credor'] = codigo\n",
    "lista_Empenhos['Nome do Credor'] = nome\n",
    "lista_Empenhos['Historico'] = historico\n"
   ]
  },
  {
   "cell_type": "markdown",
   "metadata": {},
   "source": [
    "# Servidor"
   ]
  },
  {
   "cell_type": "code",
   "execution_count": null,
   "metadata": {},
   "outputs": [],
   "source": [
    "myHost = ''\n",
    "myPort = 5007"
   ]
  },
  {
   "cell_type": "code",
   "execution_count": null,
   "metadata": {},
   "outputs": [],
   "source": [
    "# AF_INET --> protocolo de endereço IP\n",
    "# SOCK_STREAM\n",
    "sockObj = socket(AF_INET,SOCK_STREAM)"
   ]
  },
  {
   "cell_type": "code",
   "execution_count": null,
   "metadata": {},
   "outputs": [],
   "source": [
    "# VINCULANDO O SERVIDOR COM A PORTA\n",
    "sockObj.bind((myHost, myPort))"
   ]
  },
  {
   "cell_type": "code",
   "execution_count": null,
   "metadata": {},
   "outputs": [],
   "source": [
    "#numero de conexões simultaneas\n",
    "sockObj.listen(5)"
   ]
  },
  {
   "cell_type": "code",
   "execution_count": null,
   "metadata": {},
   "outputs": [],
   "source": [
    "#Servidor\n",
    "while True:\n",
    "    conexao, endereco = sockObj.accept()\n",
    "    print(\"Servidor conectado por: \",endereco)\n",
    "    while True:\n",
    "\n",
    "        # numero de bytes que a conexão ira receber\n",
    "        total_bytes = 1024\n",
    "        data = conexao.recv(total_bytes)\n",
    "        \n",
    "        \n",
    "        if not data : break\n",
    "        # Meu de ações\n",
    "        print(data)\n",
    "        test =str(data)\n",
    "        print(type(test))\n",
    "        \n",
    "        conexao.send(b'test ' + data)\n",
    "    conexao.close"
   ]
  }
 ],
 "metadata": {
  "kernelspec": {
   "display_name": "Python 3",
   "language": "python",
   "name": "python3"
  },
  "language_info": {
   "codemirror_mode": {
    "name": "ipython",
    "version": 3
   },
   "file_extension": ".py",
   "mimetype": "text/x-python",
   "name": "python",
   "nbconvert_exporter": "python",
   "pygments_lexer": "ipython3",
   "version": "3.5.4"
  }
 },
 "nbformat": 4,
 "nbformat_minor": 2
}
