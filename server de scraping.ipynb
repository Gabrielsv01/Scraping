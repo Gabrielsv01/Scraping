{
 "cells": [
  {
   "cell_type": "code",
   "execution_count": 1,
   "metadata": {},
   "outputs": [],
   "source": [
    "import requests\n",
    "import bs4\n",
    "from socket import *"
   ]
  },
  {
   "cell_type": "code",
   "execution_count": 2,
   "metadata": {},
   "outputs": [],
   "source": [
    "# hi = soup.select('title')\n",
    "# print(hi[0].getText())"
   ]
  },
  {
   "cell_type": "code",
   "execution_count": 3,
   "metadata": {},
   "outputs": [],
   "source": [
    "# pegando informações do site \n",
    "def scrapin(site):\n",
    "    res = requests.get('{}'.format(site))\n",
    "    soup = bs4.BeautifulSoup(res.text,'lxml')\n",
    "    return soup"
   ]
  },
  {
   "cell_type": "code",
   "execution_count": 4,
   "metadata": {},
   "outputs": [],
   "source": [
    "myHost = ''\n",
    "myPort = 5007"
   ]
  },
  {
   "cell_type": "code",
   "execution_count": null,
   "metadata": {},
   "outputs": [],
   "source": [
    "# AF_INET --> protocolo de endereço IP\n",
    "# SOCK_STREAM\n",
    "sockObj = socket(AF_INET,SOCK_STREAM)"
   ]
  },
  {
   "cell_type": "code",
   "execution_count": null,
   "metadata": {},
   "outputs": [],
   "source": [
    "# VINCULANDO O SERVIDOR COM A PORTA\n",
    "sockObj.bind((myHost, myPort))"
   ]
  },
  {
   "cell_type": "code",
   "execution_count": null,
   "metadata": {},
   "outputs": [],
   "source": [
    "#numero de conexões simultaneas\n",
    "sockObj.listen(5)"
   ]
  },
  {
   "cell_type": "code",
   "execution_count": null,
   "metadata": {},
   "outputs": [
    {
     "name": "stdout",
     "output_type": "stream",
     "text": [
      "Servidor conectado por:  ('127.0.0.1', 57613)\n",
      "b' Ola mundo'\n",
      "<class 'str'>\n"
     ]
    }
   ],
   "source": [
    "#Servidor\n",
    "while True:\n",
    "    conexao, endereco = sockObj.accept()\n",
    "    print(\"Servidor conectado por: \",endereco)\n",
    "    while True:\n",
    "\n",
    "        # numero de bytes que a conexão ira receber\n",
    "        total_bytes = 1024\n",
    "        data = conexao.recv(total_bytes)\n",
    "        \n",
    "        \n",
    "        if not data : break\n",
    "        # Meu de ações\n",
    "        print(data)\n",
    "        test =str(data)\n",
    "        print(type(test))\n",
    "        \n",
    "        conexao.send(b'test ' + data)\n",
    "    conexao.close"
   ]
  }
 ],
 "metadata": {
  "kernelspec": {
   "display_name": "Python 3",
   "language": "python",
   "name": "python3"
  },
  "language_info": {
   "codemirror_mode": {
    "name": "ipython",
    "version": 3
   },
   "file_extension": ".py",
   "mimetype": "text/x-python",
   "name": "python",
   "nbconvert_exporter": "python",
   "pygments_lexer": "ipython3",
   "version": "3.5.4"
  }
 },
 "nbformat": 4,
 "nbformat_minor": 2
}
